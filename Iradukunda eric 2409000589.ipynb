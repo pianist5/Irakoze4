{
  "nbformat": 4,
  "nbformat_minor": 0,
  "metadata": {
    "colab": {
      "provenance": []
    },
    "kernelspec": {
      "name": "python3",
      "display_name": "Python 3"
    },
    "language_info": {
      "name": "python"
    }
  },
  "cells": [
    {
      "cell_type": "code",
      "execution_count": null,
      "metadata": {
        "colab": {
          "base_uri": "https://localhost:8080/"
        },
        "id": "MZza9Ww0Vmp-",
        "outputId": "556818a9-cfd6-4f22-9596-00df215034df"
      },
      "outputs": [
        {
          "output_type": "stream",
          "name": "stdout",
          "text": [
            "Requirement already satisfied: cryptography in /usr/local/lib/python3.10/dist-packages (43.0.3)\n",
            "Requirement already satisfied: cffi>=1.12 in /usr/local/lib/python3.10/dist-packages (from cryptography) (1.17.1)\n",
            "Requirement already satisfied: pycparser in /usr/local/lib/python3.10/dist-packages (from cffi>=1.12->cryptography) (2.22)\n"
          ]
        }
      ],
      "source": [
        "!pip install cryptography"
      ]
    },
    {
      "cell_type": "code",
      "source": [
        "from cryptography.fernet import Fernet\n",
        "\n",
        "# Generate a key\n",
        "key = Fernet.generate_key()\n",
        "\n",
        "# Create a Fernet object with the key\n",
        "cipher = Fernet(key)\n",
        "\n",
        "# let create Message to encrypt\n",
        "message = \"IRADUKUNDA.\"\n",
        "\n",
        "# this is how to Encrypt the message\n",
        "encrypted_message = cipher.encrypt(message.encode())\n",
        "\n",
        "# let us Print the encrypted message\n",
        "print(\"FIRST NAME:\", encrypted_message)\n",
        "\n",
        "# this is how to Decrypt the message\n",
        "decrypted_message = cipher.decrypt(encrypted_message).decode()\n",
        "\n",
        "# let us Print the decrypted message\n",
        "print(\"Decrypted message:\", decrypted_message)"
      ],
      "metadata": {
        "colab": {
          "base_uri": "https://localhost:8080/"
        },
        "id": "VRFtY6f8WD5G",
        "outputId": "cd9560c8-47d3-4916-9e46-fae907ecde47"
      },
      "execution_count": null,
      "outputs": [
        {
          "output_type": "stream",
          "name": "stdout",
          "text": [
            "FIRST NAME: b'gAAAAABnrOTD4ZYozormw7UBl5zLzUQyn7tlpkQHlZNbldr_pkTfwhptussy2d0T-aIQvjbUJiLG9pcwVtXARS3J-NJFvZycOw=='\n",
            "Decrypted message: IRADUKUNDA.\n"
          ]
        }
      ]
    }
  ]
}